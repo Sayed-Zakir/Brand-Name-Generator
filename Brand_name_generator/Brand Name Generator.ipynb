{
 "cells": [
  {
   "cell_type": "code",
   "execution_count": 3,
   "id": "483531c6",
   "metadata": {},
   "outputs": [
    {
     "name": "stdout",
     "output_type": "stream",
     "text": [
      "Welcome to our Brand name generator\n",
      "Which city you grew up in:\n",
      "zakir\n",
      "What is your pet name:\n",
      "chikoo\n",
      "Your brand name could be zakir chikoo\n"
     ]
    }
   ],
   "source": [
    "print(\"Welcome to our Brand name generator\")\n",
    "\n",
    "#Ask user for the city they grew up in\n",
    "city=input(\"Which city you grew up in:\\n\")\n",
    "\n",
    "#Ask user for their pet name\n",
    "pet=input(\"What is your pet name:\\n\")\n",
    "\n",
    "#Generate brand name\n",
    "print(f\"Your brand name could be {city} {pet}\")"
   ]
  },
  {
   "cell_type": "code",
   "execution_count": null,
   "id": "85b80b16",
   "metadata": {},
   "outputs": [],
   "source": []
  }
 ],
 "metadata": {
  "kernelspec": {
   "display_name": "Python 3 (ipykernel)",
   "language": "python",
   "name": "python3"
  },
  "language_info": {
   "codemirror_mode": {
    "name": "ipython",
    "version": 3
   },
   "file_extension": ".py",
   "mimetype": "text/x-python",
   "name": "python",
   "nbconvert_exporter": "python",
   "pygments_lexer": "ipython3",
   "version": "3.9.13"
  }
 },
 "nbformat": 4,
 "nbformat_minor": 5
}
